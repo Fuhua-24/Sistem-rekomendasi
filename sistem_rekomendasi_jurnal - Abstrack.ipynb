{
  "cells": [
    {
      "cell_type": "code",
      "execution_count": 1,
      "metadata": {
        "id": "kCOSPANm6aUB"
      },
      "outputs": [],
      "source": [
        "import pandas as pd\n",
        "jurnal = pd.read_csv(r\"C:\\Users\\acer\\anaconda3\\envs\\ki\\datajurnal2.csv\",sep=\";\")"
      ]
    },
    {
      "cell_type": "code",
      "execution_count": 2,
      "metadata": {
        "colab": {
          "base_uri": "https://localhost:8080/"
        },
        "id": "B6V7fqKmRWGk",
        "outputId": "04546121-238e-4add-ea02-1aeb7a286ed5"
      },
      "outputs": [
        {
          "data": {
            "text/html": [
              "<div>\n",
              "<style scoped>\n",
              "    .dataframe tbody tr th:only-of-type {\n",
              "        vertical-align: middle;\n",
              "    }\n",
              "\n",
              "    .dataframe tbody tr th {\n",
              "        vertical-align: top;\n",
              "    }\n",
              "\n",
              "    .dataframe thead th {\n",
              "        text-align: right;\n",
              "    }\n",
              "</style>\n",
              "<table border=\"1\" class=\"dataframe\">\n",
              "  <thead>\n",
              "    <tr style=\"text-align: right;\">\n",
              "      <th></th>\n",
              "      <th>journalId</th>\n",
              "      <th>title</th>\n",
              "      <th>abstract</th>\n",
              "      <th>keywords</th>\n",
              "    </tr>\n",
              "  </thead>\n",
              "  <tbody>\n",
              "    <tr>\n",
              "      <th>0</th>\n",
              "      <td>1</td>\n",
              "      <td>Mesenchymal Transformation: The Rosetta Stone ...</td>\n",
              "      <td>Despite decades of research, glioblastoma (GB...</td>\n",
              "      <td>clinical outcome|glioblastoma (GBM)|mesenchyma...</td>\n",
              "    </tr>\n",
              "    <tr>\n",
              "      <th>1</th>\n",
              "      <td>2</td>\n",
              "      <td>DGAT1 protects tumor from lipotoxicity, emergi...</td>\n",
              "      <td>We recently demonstrated that glioblastoma, th...</td>\n",
              "      <td>DGAT1|glioblastoma|lipotoxicity|oxidative stre...</td>\n",
              "    </tr>\n",
              "    <tr>\n",
              "      <th>2</th>\n",
              "      <td>3</td>\n",
              "      <td>Anti-PD-1 Immunotherapy in Preclinical GL261 G...</td>\n",
              "      <td>Glioblastomas (GBs) are malignant brain tumou...</td>\n",
              "      <td>TMZ|checkpoint inhibitors|glioblastoma|long-te...</td>\n",
              "    </tr>\n",
              "    <tr>\n",
              "      <th>3</th>\n",
              "      <td>4</td>\n",
              "      <td>Recent Updates on the Relationship between Can...</td>\n",
              "      <td>Autoimmune pancreatitis (AIP) is now considere...</td>\n",
              "      <td>IgG4-related disease|autoimmune pancreatitis|c...</td>\n",
              "    </tr>\n",
              "    <tr>\n",
              "      <th>4</th>\n",
              "      <td>5</td>\n",
              "      <td>Cancer and cure: A critical analysis</td>\n",
              "      <td>Cancer is one of the most dreaded diseases of ...</td>\n",
              "      <td>cancer|cure.</td>\n",
              "    </tr>\n",
              "  </tbody>\n",
              "</table>\n",
              "</div>"
            ],
            "text/plain": [
              "   journalId                                              title  \\\n",
              "0          1  Mesenchymal Transformation: The Rosetta Stone ...   \n",
              "1          2  DGAT1 protects tumor from lipotoxicity, emergi...   \n",
              "2          3  Anti-PD-1 Immunotherapy in Preclinical GL261 G...   \n",
              "3          4  Recent Updates on the Relationship between Can...   \n",
              "4          5               Cancer and cure: A critical analysis   \n",
              "\n",
              "                                            abstract  \\\n",
              "0   Despite decades of research, glioblastoma (GB...   \n",
              "1  We recently demonstrated that glioblastoma, th...   \n",
              "2   Glioblastomas (GBs) are malignant brain tumou...   \n",
              "3  Autoimmune pancreatitis (AIP) is now considere...   \n",
              "4  Cancer is one of the most dreaded diseases of ...   \n",
              "\n",
              "                                            keywords  \n",
              "0  clinical outcome|glioblastoma (GBM)|mesenchyma...  \n",
              "1  DGAT1|glioblastoma|lipotoxicity|oxidative stre...  \n",
              "2  TMZ|checkpoint inhibitors|glioblastoma|long-te...  \n",
              "3  IgG4-related disease|autoimmune pancreatitis|c...  \n",
              "4                                       cancer|cure.  "
            ]
          },
          "execution_count": 2,
          "metadata": {},
          "output_type": "execute_result"
        }
      ],
      "source": [
        "jurnal.head()\n",
        "#jurnal[\"similarity\"]"
      ]
    },
    {
      "cell_type": "code",
      "execution_count": 3,
      "metadata": {
        "colab": {
          "base_uri": "https://localhost:8080/"
        },
        "id": "Usq6O0FMVw0i",
        "outputId": "ad879b89-7f27-42cd-8ae5-c78a7bd1c3d8"
      },
      "outputs": [],
      "source": [
        "import pickle\n",
        "\n",
        "from sklearn.datasets import fetch_openml\n",
        "from sklearn.ensemble import RandomForestClassifier\n",
        "from sklearn.model_selection import train_test_split"
      ]
    },
    {
      "cell_type": "code",
      "execution_count": 4,
      "metadata": {
        "id": "-IX3frvGXaU6"
      },
      "outputs": [],
      "source": [
        "import re\n",
        "\n",
        "def clean_abstract(abstract):\n",
        "  re.sub(\"[a-zA-Z ]\", \"\", abstract)\n",
        "  return abstract"
      ]
    },
    {
      "cell_type": "code",
      "execution_count": 5,
      "metadata": {
        "id": "2yHQf-BDXpaK"
      },
      "outputs": [],
      "source": [
        "jurnal[\"clean_abstract\"] = jurnal[\"abstract\"].apply(clean_abstract)"
      ]
    },
    {
      "cell_type": "code",
      "execution_count": 6,
      "metadata": {
        "colab": {
          "base_uri": "https://localhost:8080/"
        },
        "id": "1ZEHAJBfXp1G",
        "outputId": "895d3047-3f05-45de-bdbe-e7894f8288a1"
      },
      "outputs": [
        {
          "data": {
            "text/html": [
              "<div>\n",
              "<style scoped>\n",
              "    .dataframe tbody tr th:only-of-type {\n",
              "        vertical-align: middle;\n",
              "    }\n",
              "\n",
              "    .dataframe tbody tr th {\n",
              "        vertical-align: top;\n",
              "    }\n",
              "\n",
              "    .dataframe thead th {\n",
              "        text-align: right;\n",
              "    }\n",
              "</style>\n",
              "<table border=\"1\" class=\"dataframe\">\n",
              "  <thead>\n",
              "    <tr style=\"text-align: right;\">\n",
              "      <th></th>\n",
              "      <th>journalId</th>\n",
              "      <th>title</th>\n",
              "      <th>abstract</th>\n",
              "      <th>keywords</th>\n",
              "      <th>clean_abstract</th>\n",
              "      <th>word_count</th>\n",
              "    </tr>\n",
              "  </thead>\n",
              "  <tbody>\n",
              "    <tr>\n",
              "      <th>0</th>\n",
              "      <td>1</td>\n",
              "      <td>Mesenchymal Transformation: The Rosetta Stone ...</td>\n",
              "      <td>Despite decades of research, glioblastoma (GB...</td>\n",
              "      <td>clinical outcome|glioblastoma (GBM)|mesenchyma...</td>\n",
              "      <td>Despite decades of research, glioblastoma (GB...</td>\n",
              "      <td>676</td>\n",
              "    </tr>\n",
              "    <tr>\n",
              "      <th>1</th>\n",
              "      <td>2</td>\n",
              "      <td>DGAT1 protects tumor from lipotoxicity, emergi...</td>\n",
              "      <td>We recently demonstrated that glioblastoma, th...</td>\n",
              "      <td>DGAT1|glioblastoma|lipotoxicity|oxidative stre...</td>\n",
              "      <td>We recently demonstrated that glioblastoma, th...</td>\n",
              "      <td>920</td>\n",
              "    </tr>\n",
              "    <tr>\n",
              "      <th>2</th>\n",
              "      <td>3</td>\n",
              "      <td>Anti-PD-1 Immunotherapy in Preclinical GL261 G...</td>\n",
              "      <td>Glioblastomas (GBs) are malignant brain tumou...</td>\n",
              "      <td>TMZ|checkpoint inhibitors|glioblastoma|long-te...</td>\n",
              "      <td>Glioblastomas (GBs) are malignant brain tumou...</td>\n",
              "      <td>1019</td>\n",
              "    </tr>\n",
              "    <tr>\n",
              "      <th>3</th>\n",
              "      <td>4</td>\n",
              "      <td>Recent Updates on the Relationship between Can...</td>\n",
              "      <td>Autoimmune pancreatitis (AIP) is now considere...</td>\n",
              "      <td>IgG4-related disease|autoimmune pancreatitis|c...</td>\n",
              "      <td>Autoimmune pancreatitis (AIP) is now considere...</td>\n",
              "      <td>560</td>\n",
              "    </tr>\n",
              "    <tr>\n",
              "      <th>4</th>\n",
              "      <td>5</td>\n",
              "      <td>Cancer and cure: A critical analysis</td>\n",
              "      <td>Cancer is one of the most dreaded diseases of ...</td>\n",
              "      <td>cancer|cure.</td>\n",
              "      <td>Cancer is one of the most dreaded diseases of ...</td>\n",
              "      <td>452</td>\n",
              "    </tr>\n",
              "    <tr>\n",
              "      <th>...</th>\n",
              "      <td>...</td>\n",
              "      <td>...</td>\n",
              "      <td>...</td>\n",
              "      <td>...</td>\n",
              "      <td>...</td>\n",
              "      <td>...</td>\n",
              "    </tr>\n",
              "    <tr>\n",
              "      <th>85</th>\n",
              "      <td>86</td>\n",
              "      <td>Exact Controllability and Asymptotic Analysis ...</td>\n",
              "      <td>the authors consider the exact controllability...</td>\n",
              "      <td>NaN</td>\n",
              "      <td>the authors consider the exact controllability...</td>\n",
              "      <td>75</td>\n",
              "    </tr>\n",
              "    <tr>\n",
              "      <th>86</th>\n",
              "      <td>87</td>\n",
              "      <td>Existence and Asymptotic Behavior of Radially ...</td>\n",
              "      <td>This paper is concerned with a class of semili...</td>\n",
              "      <td>NaN</td>\n",
              "      <td>This paper is concerned with a class of semili...</td>\n",
              "      <td>127</td>\n",
              "    </tr>\n",
              "    <tr>\n",
              "      <th>87</th>\n",
              "      <td>88</td>\n",
              "      <td>Global Bifurcation of a Perturbed Double-Homoc...</td>\n",
              "      <td>This paper deals with a kind of fourth degree ...</td>\n",
              "      <td>NaN</td>\n",
              "      <td>This paper deals with a kind of fourth degree ...</td>\n",
              "      <td>34</td>\n",
              "    </tr>\n",
              "    <tr>\n",
              "      <th>88</th>\n",
              "      <td>89</td>\n",
              "      <td>Global Existence of Classical Solutions for So...</td>\n",
              "      <td>In this paper, we prove local and global exist...</td>\n",
              "      <td>NaN</td>\n",
              "      <td>In this paper, we prove local and global exist...</td>\n",
              "      <td>36</td>\n",
              "    </tr>\n",
              "    <tr>\n",
              "      <th>89</th>\n",
              "      <td>90</td>\n",
              "      <td>Homogenization of Reynolds Equation by Two-Sca...</td>\n",
              "      <td>To increase the hydrodynamic performance in di...</td>\n",
              "      <td>NaN</td>\n",
              "      <td>To increase the hydrodynamic performance in di...</td>\n",
              "      <td>109</td>\n",
              "    </tr>\n",
              "  </tbody>\n",
              "</table>\n",
              "<p>90 rows × 6 columns</p>\n",
              "</div>"
            ],
            "text/plain": [
              "    journalId                                              title  \\\n",
              "0           1  Mesenchymal Transformation: The Rosetta Stone ...   \n",
              "1           2  DGAT1 protects tumor from lipotoxicity, emergi...   \n",
              "2           3  Anti-PD-1 Immunotherapy in Preclinical GL261 G...   \n",
              "3           4  Recent Updates on the Relationship between Can...   \n",
              "4           5               Cancer and cure: A critical analysis   \n",
              "..        ...                                                ...   \n",
              "85         86  Exact Controllability and Asymptotic Analysis ...   \n",
              "86         87  Existence and Asymptotic Behavior of Radially ...   \n",
              "87         88  Global Bifurcation of a Perturbed Double-Homoc...   \n",
              "88         89  Global Existence of Classical Solutions for So...   \n",
              "89         90  Homogenization of Reynolds Equation by Two-Sca...   \n",
              "\n",
              "                                             abstract  \\\n",
              "0    Despite decades of research, glioblastoma (GB...   \n",
              "1   We recently demonstrated that glioblastoma, th...   \n",
              "2    Glioblastomas (GBs) are malignant brain tumou...   \n",
              "3   Autoimmune pancreatitis (AIP) is now considere...   \n",
              "4   Cancer is one of the most dreaded diseases of ...   \n",
              "..                                                ...   \n",
              "85  the authors consider the exact controllability...   \n",
              "86  This paper is concerned with a class of semili...   \n",
              "87  This paper deals with a kind of fourth degree ...   \n",
              "88  In this paper, we prove local and global exist...   \n",
              "89  To increase the hydrodynamic performance in di...   \n",
              "\n",
              "                                             keywords  \\\n",
              "0   clinical outcome|glioblastoma (GBM)|mesenchyma...   \n",
              "1   DGAT1|glioblastoma|lipotoxicity|oxidative stre...   \n",
              "2   TMZ|checkpoint inhibitors|glioblastoma|long-te...   \n",
              "3   IgG4-related disease|autoimmune pancreatitis|c...   \n",
              "4                                        cancer|cure.   \n",
              "..                                                ...   \n",
              "85                                                NaN   \n",
              "86                                                NaN   \n",
              "87                                                NaN   \n",
              "88                                                NaN   \n",
              "89                                                NaN   \n",
              "\n",
              "                                       clean_abstract  word_count  \n",
              "0    Despite decades of research, glioblastoma (GB...         676  \n",
              "1   We recently demonstrated that glioblastoma, th...         920  \n",
              "2    Glioblastomas (GBs) are malignant brain tumou...        1019  \n",
              "3   Autoimmune pancreatitis (AIP) is now considere...         560  \n",
              "4   Cancer is one of the most dreaded diseases of ...         452  \n",
              "..                                                ...         ...  \n",
              "85  the authors consider the exact controllability...          75  \n",
              "86  This paper is concerned with a class of semili...         127  \n",
              "87  This paper deals with a kind of fourth degree ...          34  \n",
              "88  In this paper, we prove local and global exist...          36  \n",
              "89  To increase the hydrodynamic performance in di...         109  \n",
              "\n",
              "[90 rows x 6 columns]"
            ]
          },
          "execution_count": 6,
          "metadata": {},
          "output_type": "execute_result"
        }
      ],
      "source": [
        "jurnal['word_count'] = jurnal['abstract'].apply(lambda x: len(x.split()))\n",
        "#jurnal.groupby('keywords')['word_count'].mean()\n",
        "jurnal.groupby('abstract')['word_count'].mean()\n",
        "jurnal\n"
      ]
    },
    {
      "cell_type": "markdown",
      "metadata": {
        "id": "yLr9Q67hbj80"
      },
      "source": [
        "**Vectorizer**"
      ]
    },
    {
      "cell_type": "code",
      "execution_count": 7,
      "metadata": {
        "id": "sfMyS-SnRRCG"
      },
      "outputs": [
        {
          "name": "stdout",
          "output_type": "stream",
          "text": [
            "  (0, 13572)\t0.02308226911540255\n",
            "  (0, 12282)\t0.02308226911540255\n",
            "  (0, 14081)\t0.02308226911540255\n",
            "  (0, 1567)\t0.02308226911540255\n",
            "  (0, 12937)\t0.02113963449775765\n",
            "  (0, 12125)\t0.02113963449775765\n",
            "  (0, 6113)\t0.02308226911540255\n",
            "  (0, 14139)\t0.02308226911540255\n",
            "  (0, 5653)\t0.02308226911540255\n",
            "  (0, 12286)\t0.02308226911540255\n",
            "  (0, 6628)\t0.02113963449775765\n",
            "  (0, 2791)\t0.02113963449775765\n",
            "  (0, 925)\t0.02113963449775765\n",
            "  (0, 474)\t0.02308226911540255\n",
            "  (0, 10872)\t0.02308226911540255\n",
            "  (0, 4210)\t0.02308226911540255\n",
            "  (0, 14964)\t0.01976131330156837\n",
            "  (0, 14825)\t0.02113963449775765\n",
            "  (0, 11312)\t0.01587604406627856\n",
            "  (0, 4231)\t0.02308226911540255\n",
            "  (0, 541)\t0.02308226911540255\n",
            "  (0, 13616)\t0.02308226911540255\n",
            "  (0, 512)\t0.02308226911540255\n",
            "  (0, 13502)\t0.02308226911540255\n",
            "  (0, 4484)\t0.02308226911540255\n",
            "  :\t:\n",
            "  (89, 13858)\t0.04383193391821544\n",
            "  (89, 7306)\t0.037147320100416145\n",
            "  (89, 9240)\t0.07317048936136361\n",
            "  (89, 6637)\t0.05777819959947229\n",
            "  (89, 14771)\t0.02736217360553039\n",
            "  (89, 1868)\t0.0554603139466884\n",
            "  (89, 8395)\t0.0364817485243601\n",
            "  (89, 7296)\t0.028107008258361574\n",
            "  (89, 9385)\t0.03933299723893383\n",
            "  (89, 5921)\t0.031034729357932025\n",
            "  (89, 11474)\t0.18303798246484934\n",
            "  (89, 1586)\t0.05128383346603758\n",
            "  (89, 14896)\t0.030140853412300397\n",
            "  (89, 2296)\t0.047599916600481386\n",
            "  (89, 7129)\t0.037745081604378124\n",
            "  (89, 13615)\t0.05355014352614872\n",
            "  (89, 4384)\t0.04868231396210914\n",
            "  (89, 13828)\t0.057255941296836706\n",
            "  (89, 6493)\t0.06608936725675632\n",
            "  (89, 8511)\t0.09736462792421828\n",
            "  (89, 4126)\t0.037147320100416145\n",
            "  (89, 1438)\t0.024390163120454535\n",
            "  (89, 872)\t0.0518015294010608\n",
            "  (89, 12898)\t0.10947000098607045\n",
            "  (89, 8928)\t0.07993054842271875\n"
          ]
        }
      ],
      "source": [
        "from numpy.lib.function_base import vectorize\n",
        "from sklearn.feature_extraction.text import TfidfVectorizer #mengubah kata menjadi angka\n",
        "\n",
        "vectorizer = TfidfVectorizer(ngram_range=(1, 2))\n",
        "\n",
        "tfidf = vectorizer.fit_transform(jurnal[\"clean_abstract\"])\n",
        "print(tfidf)"
      ]
    },
    {
      "cell_type": "markdown",
      "metadata": {
        "id": "QCnSJEelbecy"
      },
      "source": [
        "**1. similarity berdasarkan title**"
      ]
    },
    {
      "cell_type": "code",
      "execution_count": 8,
      "metadata": {
        "colab": {
          "base_uri": "https://localhost:8080/"
        },
        "id": "B3vsNKrZk9iY",
        "outputId": "81276201-5b23-4b82-f1c8-2c869ff2ad81"
      },
      "outputs": [
        {
          "name": "stdout",
          "output_type": "stream",
          "text": [
            "Cancer comprises a bewildering assortment of diseases that kill 7.5 million people each year. Poor understanding of cancer's diversity currently thwarts our goal of a cure for every patient, but recent integration of genomic and stem cell technologies promises a route through this impasse.\n",
            "[0.07018458 0.0799747  0.08040725 0.36633039 0.10299155]\n"
          ]
        },
        {
          "data": {
            "text/html": [
              "<div>\n",
              "<style scoped>\n",
              "    .dataframe tbody tr th:only-of-type {\n",
              "        vertical-align: middle;\n",
              "    }\n",
              "\n",
              "    .dataframe tbody tr th {\n",
              "        vertical-align: top;\n",
              "    }\n",
              "\n",
              "    .dataframe thead th {\n",
              "        text-align: right;\n",
              "    }\n",
              "</style>\n",
              "<table border=\"1\" class=\"dataframe\">\n",
              "  <thead>\n",
              "    <tr style=\"text-align: right;\">\n",
              "      <th></th>\n",
              "      <th>journalId</th>\n",
              "      <th>title</th>\n",
              "      <th>abstract</th>\n",
              "      <th>keywords</th>\n",
              "      <th>clean_abstract</th>\n",
              "      <th>word_count</th>\n",
              "    </tr>\n",
              "  </thead>\n",
              "  <tbody>\n",
              "    <tr>\n",
              "      <th>4</th>\n",
              "      <td>5</td>\n",
              "      <td>Cancer and cure: A critical analysis</td>\n",
              "      <td>Cancer is one of the most dreaded diseases of ...</td>\n",
              "      <td>cancer|cure.</td>\n",
              "      <td>Cancer is one of the most dreaded diseases of ...</td>\n",
              "      <td>452</td>\n",
              "    </tr>\n",
              "    <tr>\n",
              "      <th>13</th>\n",
              "      <td>14</td>\n",
              "      <td>Mapping cancer origins</td>\n",
              "      <td>Cancer comprises a bewildering assortment of d...</td>\n",
              "      <td>cancer</td>\n",
              "      <td>Cancer comprises a bewildering assortment of d...</td>\n",
              "      <td>409</td>\n",
              "    </tr>\n",
              "    <tr>\n",
              "      <th>18</th>\n",
              "      <td>19</td>\n",
              "      <td>Pathophysiology of lung cancer</td>\n",
              "      <td>Cigarette smoking is responsible for approxima...</td>\n",
              "      <td>cancer|lung cancer.</td>\n",
              "      <td>Cigarette smoking is responsible for approxima...</td>\n",
              "      <td>198</td>\n",
              "    </tr>\n",
              "    <tr>\n",
              "      <th>19</th>\n",
              "      <td>20</td>\n",
              "      <td>The Role of Telomerase in Breast Cancer's Resp...</td>\n",
              "      <td>Currently, breast cancer appears to be the mos...</td>\n",
              "      <td>breast cancer|resistance|telomerase|therapy|ca...</td>\n",
              "      <td>Currently, breast cancer appears to be the mos...</td>\n",
              "      <td>169</td>\n",
              "    </tr>\n",
              "    <tr>\n",
              "      <th>12</th>\n",
              "      <td>13</td>\n",
              "      <td>Early epigenetic cancer decisions</td>\n",
              "      <td>Abstract A cancer dogma states that inactivati...</td>\n",
              "      <td>cancer|tumor.</td>\n",
              "      <td>Abstract A cancer dogma states that inactivati...</td>\n",
              "      <td>229</td>\n",
              "    </tr>\n",
              "  </tbody>\n",
              "</table>\n",
              "</div>"
            ],
            "text/plain": [
              "    journalId                                              title  \\\n",
              "4           5               Cancer and cure: A critical analysis   \n",
              "13         14                             Mapping cancer origins   \n",
              "18         19                     Pathophysiology of lung cancer   \n",
              "19         20  The Role of Telomerase in Breast Cancer's Resp...   \n",
              "12         13                  Early epigenetic cancer decisions   \n",
              "\n",
              "                                             abstract  \\\n",
              "4   Cancer is one of the most dreaded diseases of ...   \n",
              "13  Cancer comprises a bewildering assortment of d...   \n",
              "18  Cigarette smoking is responsible for approxima...   \n",
              "19  Currently, breast cancer appears to be the mos...   \n",
              "12  Abstract A cancer dogma states that inactivati...   \n",
              "\n",
              "                                             keywords  \\\n",
              "4                                        cancer|cure.   \n",
              "13                                             cancer   \n",
              "18                                cancer|lung cancer.   \n",
              "19  breast cancer|resistance|telomerase|therapy|ca...   \n",
              "12                                      cancer|tumor.   \n",
              "\n",
              "                                       clean_abstract  word_count  \n",
              "4   Cancer is one of the most dreaded diseases of ...         452  \n",
              "13  Cancer comprises a bewildering assortment of d...         409  \n",
              "18  Cigarette smoking is responsible for approxima...         198  \n",
              "19  Currently, breast cancer appears to be the mos...         169  \n",
              "12  Abstract A cancer dogma states that inactivati...         229  "
            ]
          },
          "execution_count": 8,
          "metadata": {},
          "output_type": "execute_result"
        }
      ],
      "source": [
        "from sklearn.metrics.pairwise import cosine_similarity # menggunakan pairwise untuk menghitung kedekatan antar kata\n",
        "import numpy as np\n",
        "\n",
        "#def search(title)\n",
        "def search(abstract): # Membuat fungsi search\n",
        "    print(abstract)\n",
        "    abstract = clean_abstract(abstract) # Memanggil fungsi clean_title\n",
        "    query_vec = vectorizer.transform([abstract]) # Mengubah isi dataframe title menjadi vektor\n",
        "    similarity = cosine_similarity(query_vec, tfidf).flatten() # Perhitungan cosinus antara pencarian kata dengan dataset\n",
        "    indices = np.argpartition(similarity, -5)[-5:] # Mendapatkan 10 data terdekat dari hasil pencarian\n",
        "    results = jurnal.iloc[indices].iloc[::-1] # Menunjukan lokasi data bedasarkan indices\n",
        "\n",
        "    print(similarity[indices])\n",
        "    return results\n",
        "\n",
        "search(\"Cancer comprises a bewildering assortment of diseases that kill 7.5 million people each year. Poor understanding of cancer's diversity currently thwarts our goal of a cure for every patient, but recent integration of genomic and stem cell technologies promises a route through this impasse.\")"
      ]
    },
    {
      "cell_type": "code",
      "execution_count": 9,
      "metadata": {
        "colab": {
          "base_uri": "https://localhost:8080/",
          "height": 49,
          "referenced_widgets": [
            "c4e05d41fde24ee29a7f0080566cfedc",
            "df7f3f1045494567b66bdb09df9d5af6",
            "0bc296fd1e1d420da036f6a7cd8ec60a",
            "59664960e51842d2971e32f7f1a0c347",
            "57cbb44b08ad48fb88495d4bf5a09bd2"
          ]
        },
        "id": "3qezbTzYlV3R",
        "outputId": "9d89bc92-0696-44ab-c412-1482f8675609"
      },
      "outputs": [
        {
          "data": {
            "application/vnd.jupyter.widget-view+json": {
              "model_id": "d3488b666ba74f2194c3cc667405d264",
              "version_major": 2,
              "version_minor": 0
            },
            "text/plain": [
              "Text(value='Cancer and cure: A critical analysis', description='abstract : ')"
            ]
          },
          "metadata": {},
          "output_type": "display_data"
        },
        {
          "data": {
            "application/vnd.jupyter.widget-view+json": {
              "model_id": "1dd542f05d644a3f979933960072fe9e",
              "version_major": 2,
              "version_minor": 0
            },
            "text/plain": [
              "Output()"
            ]
          },
          "metadata": {},
          "output_type": "display_data"
        }
      ],
      "source": [
        "# Membuat search bar interaktif\n",
        "import ipywidgets as widgets\n",
        "from IPython.display import display\n",
        "\n",
        "jurnal_input = widgets.Text( # Variabel input search bar\n",
        "    value='Cancer and cure: A critical analysis',\n",
        "    description='abstract : ',\n",
        "    disabled=False\n",
        ")\n",
        "jurnal_list = widgets.Output() # Menampilkan search bar\n",
        "\n",
        "def on_type(data): # Mencari data pada setiap ketikan input\n",
        "    with jurnal_list:\n",
        "            jurnal_list.clear_output()\n",
        "            title = data[\"new\"]\n",
        "            if len(abstract) > 5: # Membatasi minimal 5 karakter input untuk search\n",
        "                display(search(abstract)) # Menampilkan hasil search kepada output widget\n",
        "\n",
        "jurnal_input.observe(on_type, names='value') # Memanggil fungsi on_type ketika terjadi perubahan pada input bar\n",
        "\n",
        "display(jurnal_input, jurnal_list) # Menampilkan kedua widget yang dibuat"
      ]
    },
    {
      "cell_type": "markdown",
      "metadata": {
        "id": "X-SYMO8f8WlO"
      },
      "source": [
        "**2. Similarity berdasarkan Abstract**"
      ]
    },
    {
      "cell_type": "code",
      "execution_count": 19,
      "metadata": {
        "colab": {
          "base_uri": "https://localhost:8080/"
        },
        "id": "5Y1RAlw3X9yQ",
        "outputId": "ab15d1f4-1ed3-4f2d-9a61-3dd53bffb717"
      },
      "outputs": [
        {
          "name": "stdout",
          "output_type": "stream",
          "text": [
            "Breast cancer is the leading cause of cancer in women and the second leading cause of cancer-related death. There are many subtypes of breast cancer, which can be identified through the process of molecular and genetic profiling. While the current standard of care utilizes tumor tissue biopsy to subclassify breast cancer, plasma tumor DNA (ptDNA) can be detected through droplet digital PCR (ddPCR) of plasma obtained from a simple blood draw. Tissue biopsy is not only more invasive but because tumors exhibit heterogeneity it can be less accurate. Blood collects DNA shed from normal and cancerous cells alike, thus ddPCR of plasma offers a broader picture of a cancer's genetic makeup. This chapter summarizes how patients with breast cancer can be screened for specific cancerous mutations in both tissue and plasma through the use of ddPCR. Every year, over 230,000 women are diagnosed with breast cancer, and nearly 40,000 die from the disease. It is the most commonly diagnosed cancer in women and the second leading cause of cancer\u0002related death [1, 2]. Typically, breast cancer is detected via mammography and con\u0002firmed through tissue sampling. From here, patients undergo spe\u0002cific therapies targeted toward their class of breast cancer, which is defined principally by the presence or absence of estrogen receptor (ER), progesterone receptor (PR), and human epidermal growth factor receptor 2 (HER-2). Researchers have shown that within these subgroups, there are specific, idiosyncratic mutations, which can be useful for assessing burden of disease, predicting response to therapy, and monitoring the latter in a rapid and minimally invasive approach. These include mutations in PIK3CA, ESR1, TP53, MAP3K1, GATA3, RPTOR, ERBB2, and ERBB3 [3â€“6]. Current studies of receptor mutations, however, face a signifi\u0002cant barrier: they rely on single site biopsy of tumor tissue. This method is problematic because tumors have been shown to exhibit heterogeneity, so sampling a single piece of tissue may miss sites of the specific mutations listed above. This same heterogeneity can exist within metastatic tumors, and furthermore, there has been documented heterogeneity between metastases at different sites of the body, even if the metastases originated from the same primary tumor [7, 8]. In other words, tissue biopsy limits clinicians from seeing the whole genetic picture. In order to circumvent this challenge, researchers can now use droplet digital PCR (ddPCR) on samples of plasma to screen for these same mutations, through a procedure colloquially termed â€œliquid biopsy.â€ The bodyâ€™s blood supply feeds primary tumors as well as metastases, and preliminary research suggests there is no selectivity in terms of which tumor cellsâ€™ DNA is deposited into the blood. In fact, normal and cancerous cells deposit into circulation, which makes the bloodstream an effective repository of cellular DNA, cancer and otherwise [9â€“11]. Thus, circulating blood con\u0002tains traces of all variations of tumor DNA, which makes plasma tumor DNA (ptDNA) most representative of the varied genetic makeup of cancer cells. Sampling peripheral blood is also much easier than tissue biopsy, and the procedure comes with far fewer risks. There are many burgeoning applications of ddPCR within oncology, and breast cancer is poised to greatly benefit from the approach. The efficacy of ptDNA/ddPCR for detecting PIK3CA mutations in breast cancer has already been demonstrated with 93.3% sensitivity and 100% specificity in a study of 29 patients with early stage breast cancer [12]. It is important to clarify that this approach is specific for plasma, not serum. Research has shown the latter to not be reliable, whereas plasma has reproducible data supporting its efficacy [13, 14]. From identifying specific mutations sensitive to targeted therapy, to monitoring response to treatment, to detecting residual disease, this highly sensitive, cost effective approach offers improvement of breast cancer treatment and for\u0002ward progress in studying the science behind it. This protocol describes the methodology for using ddPCR to detect tumor DNA in both plasma and primary tumor tissue. \n",
            "[0.17380883 0.19238651 0.19975734 0.21614899 0.9975272 ]\n"
          ]
        },
        {
          "data": {
            "text/html": [
              "<div>\n",
              "<style scoped>\n",
              "    .dataframe tbody tr th:only-of-type {\n",
              "        vertical-align: middle;\n",
              "    }\n",
              "\n",
              "    .dataframe tbody tr th {\n",
              "        vertical-align: top;\n",
              "    }\n",
              "\n",
              "    .dataframe thead th {\n",
              "        text-align: right;\n",
              "    }\n",
              "</style>\n",
              "<table border=\"1\" class=\"dataframe\">\n",
              "  <thead>\n",
              "    <tr style=\"text-align: right;\">\n",
              "      <th></th>\n",
              "      <th>journalId</th>\n",
              "      <th>title</th>\n",
              "      <th>abstract</th>\n",
              "      <th>keywords</th>\n",
              "      <th>clean_abstract</th>\n",
              "      <th>word_count</th>\n",
              "    </tr>\n",
              "  </thead>\n",
              "  <tbody>\n",
              "    <tr>\n",
              "      <th>11</th>\n",
              "      <td>12</td>\n",
              "      <td>Detection of Cancer DNA in Early Stage and Met...</td>\n",
              "      <td>Breast cancer is the leading cause of cancer i...</td>\n",
              "      <td>Biopsy|Blood|Breast cancer|Droplet digital|Li...</td>\n",
              "      <td>Breast cancer is the leading cause of cancer i...</td>\n",
              "      <td>639</td>\n",
              "    </tr>\n",
              "    <tr>\n",
              "      <th>19</th>\n",
              "      <td>20</td>\n",
              "      <td>The Role of Telomerase in Breast Cancer's Resp...</td>\n",
              "      <td>Currently, breast cancer appears to be the mos...</td>\n",
              "      <td>breast cancer|resistance|telomerase|therapy|ca...</td>\n",
              "      <td>Currently, breast cancer appears to be the mos...</td>\n",
              "      <td>169</td>\n",
              "    </tr>\n",
              "    <tr>\n",
              "      <th>4</th>\n",
              "      <td>5</td>\n",
              "      <td>Cancer and cure: A critical analysis</td>\n",
              "      <td>Cancer is one of the most dreaded diseases of ...</td>\n",
              "      <td>cancer|cure.</td>\n",
              "      <td>Cancer is one of the most dreaded diseases of ...</td>\n",
              "      <td>452</td>\n",
              "    </tr>\n",
              "    <tr>\n",
              "      <th>5</th>\n",
              "      <td>6</td>\n",
              "      <td>Tumor microenvironment: recent advances in var...</td>\n",
              "      <td>This is a review regarding different types of ...</td>\n",
              "      <td>tumor|cancer.</td>\n",
              "      <td>This is a review regarding different types of ...</td>\n",
              "      <td>177</td>\n",
              "    </tr>\n",
              "    <tr>\n",
              "      <th>14</th>\n",
              "      <td>15</td>\n",
              "      <td>Field cancerization in breast cancer</td>\n",
              "      <td>Breast cancer affects one in seven women world...</td>\n",
              "      <td>cancer|breast cancer| cancer-adjacent tissues|...</td>\n",
              "      <td>Breast cancer affects one in seven women world...</td>\n",
              "      <td>254</td>\n",
              "    </tr>\n",
              "  </tbody>\n",
              "</table>\n",
              "</div>"
            ],
            "text/plain": [
              "    journalId                                              title  \\\n",
              "11         12  Detection of Cancer DNA in Early Stage and Met...   \n",
              "19         20  The Role of Telomerase in Breast Cancer's Resp...   \n",
              "4           5               Cancer and cure: A critical analysis   \n",
              "5           6  Tumor microenvironment: recent advances in var...   \n",
              "14         15               Field cancerization in breast cancer   \n",
              "\n",
              "                                             abstract  \\\n",
              "11  Breast cancer is the leading cause of cancer i...   \n",
              "19  Currently, breast cancer appears to be the mos...   \n",
              "4   Cancer is one of the most dreaded diseases of ...   \n",
              "5   This is a review regarding different types of ...   \n",
              "14  Breast cancer affects one in seven women world...   \n",
              "\n",
              "                                             keywords  \\\n",
              "11   Biopsy|Blood|Breast cancer|Droplet digital|Li...   \n",
              "19  breast cancer|resistance|telomerase|therapy|ca...   \n",
              "4                                        cancer|cure.   \n",
              "5                                       tumor|cancer.   \n",
              "14  cancer|breast cancer| cancer-adjacent tissues|...   \n",
              "\n",
              "                                       clean_abstract  word_count  \n",
              "11  Breast cancer is the leading cause of cancer i...         639  \n",
              "19  Currently, breast cancer appears to be the mos...         169  \n",
              "4   Cancer is one of the most dreaded diseases of ...         452  \n",
              "5   This is a review regarding different types of ...         177  \n",
              "14  Breast cancer affects one in seven women world...         254  "
            ]
          },
          "execution_count": 19,
          "metadata": {},
          "output_type": "execute_result"
        }
      ],
      "source": [
        "from sklearn.metrics.pairwise import cosine_similarity # menggunakan pairwise untuk menghitung kedekatan antar kata\n",
        "import numpy as np\n",
        "\n",
        "#def search(abstract)\n",
        "def search(abstract): # Membuat fungsi search\n",
        "    print(abstract)\n",
        "    #abstract =\n",
        "    abstract = clean_abstract(abstract) # Memanggil fungsi clean_abstract\n",
        "    query_vec = vectorizer.transform([abstract]) # Mengubah isi dataframe abstract menjadi vektor\n",
        "    similarity = cosine_similarity(query_vec, tfidf).flatten() # Perhitungan cosinus antara pencarian kata dengan dataset\n",
        "    indices = np.argpartition(similarity, -5)[-5:] # Menampilkan data terdekat dari hasil pencarian, mengurutkan nilai besar ke paling depan\n",
        "    results = jurnal.iloc[indices].iloc[::-1] # Menunjukan lokasi data bedasarkan indices\n",
        "\n",
        "    #jurnal['similarity'] = jurnal['abstract'].apply(similarity)\n",
        "    #jurnal.groupby('clean_abstract')['similarity'].mean()\n",
        "    #rec_percentages.head(10).merge(jurnal, left_index=True, right_on=\"title\")\n",
        "    #print(similarity)\n",
        "\n",
        "    print(similarity[indices])\n",
        "    return results\n",
        "\n",
        "search(\"Breast cancer is the leading cause of cancer in women and the second leading cause of cancer-related death. There are many subtypes of breast cancer, which can be identified through the process of molecular and genetic profiling. While the current standard of care utilizes tumor tissue biopsy to subclassify breast cancer, plasma tumor DNA (ptDNA) can be detected through droplet digital PCR (ddPCR) of plasma obtained from a simple blood draw. Tissue biopsy is not only more invasive but because tumors exhibit heterogeneity it can be less accurate. Blood collects DNA shed from normal and cancerous cells alike, thus ddPCR of plasma offers a broader picture of a cancer's genetic makeup. This chapter summarizes how patients with breast cancer can be screened for specific cancerous mutations in both tissue and plasma through the use of ddPCR. Every year, over 230,000 women are diagnosed with breast cancer, and nearly 40,000 die from the disease. It is the most commonly diagnosed cancer in women and the second leading cause of cancer\u0002related death [1, 2]. Typically, breast cancer is detected via mammography and con\u0002firmed through tissue sampling. From here, patients undergo spe\u0002cific therapies targeted toward their class of breast cancer, which is defined principally by the presence or absence of estrogen receptor (ER), progesterone receptor (PR), and human epidermal growth factor receptor 2 (HER-2). Researchers have shown that within these subgroups, there are specific, idiosyncratic mutations, which can be useful for assessing burden of disease, predicting response to therapy, and monitoring the latter in a rapid and minimally invasive approach. These include mutations in PIK3CA, ESR1, TP53, MAP3K1, GATA3, RPTOR, ERBB2, and ERBB3 [3â€“6]. Current studies of receptor mutations, however, face a signifi\u0002cant barrier: they rely on single site biopsy of tumor tissue. This method is problematic because tumors have been shown to exhibit heterogeneity, so sampling a single piece of tissue may miss sites of the specific mutations listed above. This same heterogeneity can exist within metastatic tumors, and furthermore, there has been documented heterogeneity between metastases at different sites of the body, even if the metastases originated from the same primary tumor [7, 8]. In other words, tissue biopsy limits clinicians from seeing the whole genetic picture. In order to circumvent this challenge, researchers can now use droplet digital PCR (ddPCR) on samples of plasma to screen for these same mutations, through a procedure colloquially termed â€œliquid biopsy.â€ The bodyâ€™s blood supply feeds primary tumors as well as metastases, and preliminary research suggests there is no selectivity in terms of which tumor cellsâ€™ DNA is deposited into the blood. In fact, normal and cancerous cells deposit into circulation, which makes the bloodstream an effective repository of cellular DNA, cancer and otherwise [9â€“11]. Thus, circulating blood con\u0002tains traces of all variations of tumor DNA, which makes plasma tumor DNA (ptDNA) most representative of the varied genetic makeup of cancer cells. Sampling peripheral blood is also much easier than tissue biopsy, and the procedure comes with far fewer risks. There are many burgeoning applications of ddPCR within oncology, and breast cancer is poised to greatly benefit from the approach. The efficacy of ptDNA/ddPCR for detecting PIK3CA mutations in breast cancer has already been demonstrated with 93.3% sensitivity and 100% specificity in a study of 29 patients with early stage breast cancer [12]. It is important to clarify that this approach is specific for plasma, not serum. Research has shown the latter to not be reliable, whereas plasma has reproducible data supporting its efficacy [13, 14]. From identifying specific mutations sensitive to targeted therapy, to monitoring response to treatment, to detecting residual disease, this highly sensitive, cost effective approach offers improvement of breast cancer treatment and for\u0002ward progress in studying the science behind it. This protocol describes the methodology for using ddPCR to detect tumor DNA in both plasma and primary tumor tissue. \")\n",
        "\n",
        " "
      ]
    },
    {
      "cell_type": "code",
      "execution_count": 11,
      "metadata": {},
      "outputs": [
        {
          "name": "stderr",
          "output_type": "stream",
          "text": [
            "2024-08-21 15:30:41.180 \n",
            "  \u001b[33m\u001b[1mWarning:\u001b[0m to view this Streamlit app on a browser, run it with the following\n",
            "  command:\n",
            "\n",
            "    streamlit run c:\\Users\\acer\\anaconda3\\envs\\ki\\lib\\site-packages\\ipykernel_launcher.py [ARGUMENTS]\n"
          ]
        }
      ],
      "source": [
        "import streamlit as st\n",
        "import pickle\n",
        "import requests\n",
        "\n",
        "st.title('Sistem Rekomendasi Jurnal')\n",
        "selected_journal_name = st.selectbox(\n",
        "     'masukan judul jurnal',\n",
        "     ([\"Measuring cancer evolution from the genome\"]))"
      ]
    },
    {
      "cell_type": "code",
      "execution_count": 12,
      "metadata": {},
      "outputs": [],
      "source": [
        "def add_bg_from_url():\n",
        "    st.markdown(\n",
        "         f\"\"\"\n",
        "         <style>\n",
        "         .stApp {{\n",
        "             background-image: url(\"https://encrypted-tbn0.gstatic.com/images?q=tbn:ANd9GcR60O2-muWvwgWvwmzklx-IydP5j0NZsLnHpg&usqp=CAU\");\n",
        "             background-attachment: fixed;\n",
        "             background-size: cover\n",
        "         }}\n",
        "         </style>\n",
        "         \"\"\",\n",
        "         unsafe_allow_html=True\n",
        "     )"
      ]
    },
    {
      "cell_type": "code",
      "execution_count": null,
      "metadata": {},
      "outputs": [],
      "source": []
    },
    {
      "cell_type": "code",
      "execution_count": 13,
      "metadata": {},
      "outputs": [],
      "source": [
        "add_bg_from_url()"
      ]
    },
    {
      "cell_type": "code",
      "execution_count": 14,
      "metadata": {
        "id": "634X3zecJkrU"
      },
      "outputs": [],
      "source": [
        "#jurnal.loc[1]"
      ]
    },
    {
      "cell_type": "code",
      "execution_count": 15,
      "metadata": {
        "id": "BYbYGeW_1FI0"
      },
      "outputs": [],
      "source": [
        "#https://www.kaggle.com/code/saddamazyazy/klasifikasi-rekomendasi-jurnal"
      ]
    }
  ],
  "metadata": {
    "accelerator": "GPU",
    "colab": {
      "gpuType": "T4",
      "provenance": []
    },
    "kernelspec": {
      "display_name": "Python 3",
      "name": "python3"
    },
    "language_info": {
      "codemirror_mode": {
        "name": "ipython",
        "version": 3
      },
      "file_extension": ".py",
      "mimetype": "text/x-python",
      "name": "python",
      "nbconvert_exporter": "python",
      "pygments_lexer": "ipython3",
      "version": "3.10.12"
    },
    "widgets": {
      "application/vnd.jupyter.widget-state+json": {
        "0bc296fd1e1d420da036f6a7cd8ec60a": {
          "model_module": "@jupyter-widgets/controls",
          "model_module_version": "1.5.0",
          "model_name": "DescriptionStyleModel",
          "state": {
            "_model_module": "@jupyter-widgets/controls",
            "_model_module_version": "1.5.0",
            "_model_name": "DescriptionStyleModel",
            "_view_count": null,
            "_view_module": "@jupyter-widgets/base",
            "_view_module_version": "1.2.0",
            "_view_name": "StyleView",
            "description_width": ""
          }
        },
        "57cbb44b08ad48fb88495d4bf5a09bd2": {
          "model_module": "@jupyter-widgets/base",
          "model_module_version": "1.2.0",
          "model_name": "LayoutModel",
          "state": {
            "_model_module": "@jupyter-widgets/base",
            "_model_module_version": "1.2.0",
            "_model_name": "LayoutModel",
            "_view_count": null,
            "_view_module": "@jupyter-widgets/base",
            "_view_module_version": "1.2.0",
            "_view_name": "LayoutView",
            "align_content": null,
            "align_items": null,
            "align_self": null,
            "border": null,
            "bottom": null,
            "display": null,
            "flex": null,
            "flex_flow": null,
            "grid_area": null,
            "grid_auto_columns": null,
            "grid_auto_flow": null,
            "grid_auto_rows": null,
            "grid_column": null,
            "grid_gap": null,
            "grid_row": null,
            "grid_template_areas": null,
            "grid_template_columns": null,
            "grid_template_rows": null,
            "height": null,
            "justify_content": null,
            "justify_items": null,
            "left": null,
            "margin": null,
            "max_height": null,
            "max_width": null,
            "min_height": null,
            "min_width": null,
            "object_fit": null,
            "object_position": null,
            "order": null,
            "overflow": null,
            "overflow_x": null,
            "overflow_y": null,
            "padding": null,
            "right": null,
            "top": null,
            "visibility": null,
            "width": null
          }
        },
        "59664960e51842d2971e32f7f1a0c347": {
          "model_module": "@jupyter-widgets/output",
          "model_module_version": "1.0.0",
          "model_name": "OutputModel",
          "state": {
            "_dom_classes": [],
            "_model_module": "@jupyter-widgets/output",
            "_model_module_version": "1.0.0",
            "_model_name": "OutputModel",
            "_view_count": null,
            "_view_module": "@jupyter-widgets/output",
            "_view_module_version": "1.0.0",
            "_view_name": "OutputView",
            "layout": "IPY_MODEL_57cbb44b08ad48fb88495d4bf5a09bd2",
            "msg_id": "",
            "outputs": []
          }
        },
        "c4e05d41fde24ee29a7f0080566cfedc": {
          "model_module": "@jupyter-widgets/controls",
          "model_module_version": "1.5.0",
          "model_name": "TextModel",
          "state": {
            "_dom_classes": [],
            "_model_module": "@jupyter-widgets/controls",
            "_model_module_version": "1.5.0",
            "_model_name": "TextModel",
            "_view_count": null,
            "_view_module": "@jupyter-widgets/controls",
            "_view_module_version": "1.5.0",
            "_view_name": "TextView",
            "continuous_update": true,
            "description": "jurnal Title:",
            "description_tooltip": null,
            "disabled": false,
            "layout": "IPY_MODEL_df7f3f1045494567b66bdb09df9d5af6",
            "placeholder": "​",
            "style": "IPY_MODEL_0bc296fd1e1d420da036f6a7cd8ec60a",
            "value": "Cancer and cure: A critical analysis"
          }
        },
        "df7f3f1045494567b66bdb09df9d5af6": {
          "model_module": "@jupyter-widgets/base",
          "model_module_version": "1.2.0",
          "model_name": "LayoutModel",
          "state": {
            "_model_module": "@jupyter-widgets/base",
            "_model_module_version": "1.2.0",
            "_model_name": "LayoutModel",
            "_view_count": null,
            "_view_module": "@jupyter-widgets/base",
            "_view_module_version": "1.2.0",
            "_view_name": "LayoutView",
            "align_content": null,
            "align_items": null,
            "align_self": null,
            "border": null,
            "bottom": null,
            "display": null,
            "flex": null,
            "flex_flow": null,
            "grid_area": null,
            "grid_auto_columns": null,
            "grid_auto_flow": null,
            "grid_auto_rows": null,
            "grid_column": null,
            "grid_gap": null,
            "grid_row": null,
            "grid_template_areas": null,
            "grid_template_columns": null,
            "grid_template_rows": null,
            "height": null,
            "justify_content": null,
            "justify_items": null,
            "left": null,
            "margin": null,
            "max_height": null,
            "max_width": null,
            "min_height": null,
            "min_width": null,
            "object_fit": null,
            "object_position": null,
            "order": null,
            "overflow": null,
            "overflow_x": null,
            "overflow_y": null,
            "padding": null,
            "right": null,
            "top": null,
            "visibility": null,
            "width": null
          }
        }
      }
    }
  },
  "nbformat": 4,
  "nbformat_minor": 0
}
