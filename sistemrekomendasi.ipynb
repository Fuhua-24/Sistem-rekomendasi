import pandas as pd
import nltk
import nltk.tokenize
import re
import ipywidgets as widgets

jurnal = pd.read_csv(r"C:\Users\acer\anaconda3\envs\ki\datajurnal2.csv",sep=";")

import re

def clean_title(title):
  re.sub("[^a-zA-Z0-9 ]", "", title)
  return title

def clean_abstract(abstract):
  re.sub("[a-zA-Z ]", "", abstract)
  return abstract

jurnal["clean_title"] = jurnal["title"].apply(clean_title)
jurnal["clean_abstract"] = jurnal["abstract"].apply(clean_abstract)

from numpy.lib.function_base import vectorize
from sklearn.feature_extraction.text import TfidfVectorizer

vectorizer = TfidfVectorizer(ngram_range=(2, 3))

tfidf = vectorizer.fit_transform(jurnal["clean_title"],["clean_abstract"])
from sklearn.metrics.pairwise import cosine_similarity # menggunakan pairwise untuk menghitung kedekatan antar kata
import numpy as np

#def search(title)
def search(title): # Membuat fungsi search
    print(title)
    title = clean_title(title) # Memanggil fungsi clean_title
    query_vec = vectorizer.transform([title]) # Mengubah isi dataframe title menjadi vektor
    similarity = cosine_similarity(query_vec, tfidf).flatten() # Perhitungan cosinus antara pencarian kata dengan dataset
    indices = np.argpartition(similarity, -10)[-10:] # Mendapatkan 5 data terdekat dari hasil pencarian
    results = jurnal.iloc[indices].iloc[::-3] # Menunjukan lokasi data bedasarkan indices

    return results

search("Cancer comprises a bewildering assortment of diseases that kill 7.5 million people each year. Poor understanding of cancer's diversity currently thwarts our goal of a cure for every patient, but recent integration of genomic and stem cell technologies promises a route through this impasse.")

# Membuat search bar interaktif

from IPython.display import display

jurnal_input = widgets.Text( # Variabel input search bar
    value='Cancer and cure: A critical analysis',
    description='jurnal Title:',
    disabled=False
)
jurnal_list = widgets.Output() # Menampilkan search bar

def on_type(data): # Mencari data pada setiap ketikan input
    with jurnal_list:
        jurnal_list.clear_output()
        title = data["new"]
        if len(title) > 5: # Membatasi minimal 5 karakter input untuk search
            display(search(title)) # Menampilkan hasil search kepada output widget

jurnal_input.observe(on_type, names='value') # Memanggil fungsi on_type ketika terjadi perubahan pada input bar

display(jurnal_input, jurnal_list) # Menampilkan kedua widget yang dibuat

from sklearn.metrics.pairwise import cosine_similarity # menggunakan pairwise untuk menghitung kedekatan antar kata
import numpy as np

#def search(abstract)
def search(abstract): # Membuat fungsi search
    print(abstract)
    abstract = clean_abstract(abstract) # Memanggil fungsi clean_abstract
    query_vec = vectorizer.transform([abstract]) # Mengubah isi dataframe abstract menjadi vektor
    similarity = cosine_similarity(query_vec, tfidf).flatten() # Perhitungan cosinus antara pencarian kata dengan dataset
    indices = np.argpartition(similarity, -10)[-10:] # Mendapatkan 5 data terdekat dari hasil pencarian
    results = jurnal.iloc[indices].iloc[::-10] # Menunjukan lokasi data bedasarkan indices

    return results

search('Despite decades of research, glioblastoma (GBM) remains invariably fatal among all forms of cancers.')